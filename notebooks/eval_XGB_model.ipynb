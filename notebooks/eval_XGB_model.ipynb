{
 "cells": [
  {
   "cell_type": "code",
   "execution_count": 1,
   "metadata": {},
   "outputs": [],
   "source": [
    "import time\n",
    "import os\n",
    "import psutil\n",
    "import numpy as np\n",
    "import pandas as pd\n",
    "import joblib\n",
    "from concrete.ml.sklearn import XGBClassifier\n",
    "from sklearn.model_selection import train_test_split\n",
    "from sklearn.utils import resample\n",
    "from sklearn.preprocessing import LabelEncoder\n",
    "from sklearn.metrics import (accuracy_score, classification_report,\n",
    "                             confusion_matrix, precision_score, recall_score,\n",
    "                             f1_score)\n"
   ]
  },
  {
   "cell_type": "code",
   "execution_count": null,
   "metadata": {},
   "outputs": [],
   "source": [
    "# First Column (Diseases) is the target variable.\n",
    "# All other columns are symptoms.\n",
    "X = joblib.load('../data/raw/raw_concrete_X.pkl')\n",
    "y = joblib.load('../data/raw/raw_concrete_y.pkl')\n"
   ]
  },
  {
   "cell_type": "code",
   "execution_count": 6,
   "metadata": {},
   "outputs": [],
   "source": [
    "# Create mask to exclude rare classes\n",
    "class_counts = y.value_counts()\n",
    "rare_classes = class_counts[class_counts < 2].index.tolist()\n",
    "mask = ~y.isin(rare_classes)\n",
    "X_filtered = X[mask]\n",
    "y_filtered = y[mask]\n",
    "\n",
    "# Encode remaining classes to ensure 0-indexed consecutive labels\n",
    "le = LabelEncoder()\n",
    "y_encoded = le.fit_transform(y_filtered)"
   ]
  },
  {
   "cell_type": "code",
   "execution_count": null,
   "metadata": {},
   "outputs": [
    {
     "data": {
      "text/plain": [
       "['../data/raw/X_train_XGB.pkl']"
      ]
     },
     "execution_count": 14,
     "metadata": {},
     "output_type": "execute_result"
    }
   ],
   "source": [
    "\n",
    "\n",
    "# Perform split with valid stratification\n",
    "X_train, X_test, y_train, y_test = train_test_split(\n",
    "    X_filtered, y_encoded,\n",
    "    test_size=0.2,\n",
    "    random_state=42,\n",
    "    stratify=y_encoded  # Now safe\n",
    ")\n",
    "\n",
    "# Subsample X_train\n",
    "X_train_sub, y_train_sub = resample(\n",
    "    X_train, y_train, n_samples=int(0.3 * len(X_train)), random_state=42, stratify=y_train)\n",
    "\n",
    "joblib.dump(X_train, '../data/raw/X_train_XGB.pkl')"
   ]
  },
  {
   "cell_type": "code",
   "execution_count": null,
   "metadata": {},
   "outputs": [
    {
     "ename": "ValueError",
     "evalue": "Found input variables with inconsistent numbers of samples: [98770, 197540]",
     "output_type": "error",
     "traceback": [
      "\u001b[0;31m---------------------------------------------------------------------------\u001b[0m",
      "\u001b[0;31mValueError\u001b[0m                                Traceback (most recent call last)",
      "Cell \u001b[0;32mIn[15], line 12\u001b[0m\n\u001b[1;32m      2\u001b[0m start_train \u001b[38;5;241m=\u001b[39m time\u001b[38;5;241m.\u001b[39mtime()\n\u001b[1;32m      3\u001b[0m model \u001b[38;5;241m=\u001b[39m XGBClassifier(\n\u001b[1;32m      4\u001b[0m     n_estimators\u001b[38;5;241m=\u001b[39m\u001b[38;5;241m10\u001b[39m,       \u001b[38;5;66;03m# FHE-optimized (balance accuracy/circuit size)\u001b[39;00m\n\u001b[1;32m      5\u001b[0m     max_depth\u001b[38;5;241m=\u001b[39m\u001b[38;5;241m3\u001b[39m,           \u001b[38;5;66;03m# Critical for FHE performance\u001b[39;00m\n\u001b[0;32m   (...)\u001b[0m\n\u001b[1;32m     10\u001b[0m     tree_method\u001b[38;5;241m=\u001b[39m\u001b[38;5;124m\"\u001b[39m\u001b[38;5;124mhist\u001b[39m\u001b[38;5;124m\"\u001b[39m     \u001b[38;5;66;03m# Essential for large datasets\u001b[39;00m\n\u001b[1;32m     11\u001b[0m )\n\u001b[0;32m---> 12\u001b[0m \u001b[43mmodel\u001b[49m\u001b[38;5;241;43m.\u001b[39;49m\u001b[43mfit\u001b[49m\u001b[43m(\u001b[49m\u001b[43mX_train_sub\u001b[49m\u001b[43m,\u001b[49m\u001b[43m \u001b[49m\u001b[43my_train\u001b[49m\u001b[43m)\u001b[49m\n\u001b[1;32m     13\u001b[0m training_time \u001b[38;5;241m=\u001b[39m time\u001b[38;5;241m.\u001b[39mtime() \u001b[38;5;241m-\u001b[39m start_train\n\u001b[1;32m     15\u001b[0m \u001b[38;5;66;03m# Get Resource Utilisation after training\u001b[39;00m\n",
      "File \u001b[0;32m~/individual_project/.venv/lib/python3.12/site-packages/concrete/ml/sklearn/base.py:785\u001b[0m, in \u001b[0;36mBaseClassifier.fit\u001b[0;34m(self, X, y, **fit_parameters)\u001b[0m\n\u001b[1;32m    784\u001b[0m \u001b[38;5;28;01mdef\u001b[39;00m\u001b[38;5;250m \u001b[39m\u001b[38;5;21mfit\u001b[39m(\u001b[38;5;28mself\u001b[39m, X: Data, y: Target, \u001b[38;5;241m*\u001b[39m\u001b[38;5;241m*\u001b[39mfit_parameters):\n\u001b[0;32m--> 785\u001b[0m     X, y \u001b[38;5;241m=\u001b[39m \u001b[43mcheck_X_y_and_assert_multi_output\u001b[49m\u001b[43m(\u001b[49m\u001b[43mX\u001b[49m\u001b[43m,\u001b[49m\u001b[43m \u001b[49m\u001b[43my\u001b[49m\u001b[43m)\u001b[49m\n\u001b[1;32m    787\u001b[0m     \u001b[38;5;66;03m# Retrieve the different target classes\u001b[39;00m\n\u001b[1;32m    788\u001b[0m     classes \u001b[38;5;241m=\u001b[39m numpy\u001b[38;5;241m.\u001b[39munique(y)\n",
      "File \u001b[0;32m~/individual_project/.venv/lib/python3.12/site-packages/concrete/ml/common/check_inputs.py:73\u001b[0m, in \u001b[0;36mcheck_X_y_and_assert_multi_output\u001b[0;34m(X, y, *args, **kwargs)\u001b[0m\n\u001b[1;32m     58\u001b[0m \u001b[38;5;250m\u001b[39m\u001b[38;5;124;03m\"\"\"sklearn.utils.check_X_y with an assert and multi-output handling.\u001b[39;00m\n\u001b[1;32m     59\u001b[0m \n\u001b[1;32m     60\u001b[0m \u001b[38;5;124;03mEquivalent of sklearn.utils.check_X_y, with a final assert that the type is one which\u001b[39;00m\n\u001b[0;32m   (...)\u001b[0m\n\u001b[1;32m     70\u001b[0m \u001b[38;5;124;03m    The converted and validated arrays with multi-output targets.\u001b[39;00m\n\u001b[1;32m     71\u001b[0m \u001b[38;5;124;03m\"\"\"\u001b[39;00m\n\u001b[1;32m     72\u001b[0m multi_output \u001b[38;5;241m=\u001b[39m \u001b[38;5;28misinstance\u001b[39m(y[\u001b[38;5;241m0\u001b[39m], \u001b[38;5;28mlist\u001b[39m) \u001b[38;5;28;01mif\u001b[39;00m \u001b[38;5;28misinstance\u001b[39m(y, \u001b[38;5;28mlist\u001b[39m) \u001b[38;5;28;01melse\u001b[39;00m \u001b[38;5;28mlen\u001b[39m(y\u001b[38;5;241m.\u001b[39mshape) \u001b[38;5;241m>\u001b[39m \u001b[38;5;241m1\u001b[39m\n\u001b[0;32m---> 73\u001b[0m X, y \u001b[38;5;241m=\u001b[39m \u001b[43mcheck_X_y_and_assert\u001b[49m\u001b[43m(\u001b[49m\u001b[43mX\u001b[49m\u001b[43m,\u001b[49m\u001b[43m \u001b[49m\u001b[43my\u001b[49m\u001b[43m,\u001b[49m\u001b[43m \u001b[49m\u001b[38;5;241;43m*\u001b[39;49m\u001b[43margs\u001b[49m\u001b[43m,\u001b[49m\u001b[43m \u001b[49m\u001b[43mmulti_output\u001b[49m\u001b[38;5;241;43m=\u001b[39;49m\u001b[43mmulti_output\u001b[49m\u001b[43m,\u001b[49m\u001b[43m \u001b[49m\u001b[38;5;241;43m*\u001b[39;49m\u001b[38;5;241;43m*\u001b[39;49m\u001b[43mkwargs\u001b[49m\u001b[43m)\u001b[49m\n\u001b[1;32m     74\u001b[0m \u001b[38;5;28;01mreturn\u001b[39;00m X, y\n",
      "File \u001b[0;32m~/individual_project/.venv/lib/python3.12/site-packages/concrete/ml/common/check_inputs.py:51\u001b[0m, in \u001b[0;36mcheck_X_y_and_assert\u001b[0;34m(X, y, *args, **kwargs)\u001b[0m\n\u001b[1;32m     35\u001b[0m \u001b[38;5;28;01mdef\u001b[39;00m\u001b[38;5;250m \u001b[39m\u001b[38;5;21mcheck_X_y_and_assert\u001b[39m(X, y, \u001b[38;5;241m*\u001b[39margs, \u001b[38;5;241m*\u001b[39m\u001b[38;5;241m*\u001b[39mkwargs):\n\u001b[1;32m     36\u001b[0m \u001b[38;5;250m    \u001b[39m\u001b[38;5;124;03m\"\"\"sklearn.utils.check_X_y with an assert.\u001b[39;00m\n\u001b[1;32m     37\u001b[0m \n\u001b[1;32m     38\u001b[0m \u001b[38;5;124;03m    Equivalent of sklearn.utils.check_X_y, with a final assert that the type is one which\u001b[39;00m\n\u001b[0;32m   (...)\u001b[0m\n\u001b[1;32m     48\u001b[0m \u001b[38;5;124;03m        The converted and validated arrays\u001b[39;00m\n\u001b[1;32m     49\u001b[0m \u001b[38;5;124;03m    \"\"\"\u001b[39;00m\n\u001b[0;32m---> 51\u001b[0m     X, y \u001b[38;5;241m=\u001b[39m \u001b[43msklearn\u001b[49m\u001b[38;5;241;43m.\u001b[39;49m\u001b[43mutils\u001b[49m\u001b[38;5;241;43m.\u001b[39;49m\u001b[43mcheck_X_y\u001b[49m\u001b[43m(\u001b[49m\u001b[43mX\u001b[49m\u001b[43m,\u001b[49m\u001b[43m \u001b[49m\u001b[43my\u001b[49m\u001b[43m,\u001b[49m\u001b[43m \u001b[49m\u001b[38;5;241;43m*\u001b[39;49m\u001b[43margs\u001b[49m\u001b[43m,\u001b[49m\u001b[43m \u001b[49m\u001b[38;5;241;43m*\u001b[39;49m\u001b[38;5;241;43m*\u001b[39;49m\u001b[43mkwargs\u001b[49m\u001b[43m)\u001b[49m\n\u001b[1;32m     52\u001b[0m     assert_true(\u001b[38;5;28misinstance\u001b[39m(X, numpy\u001b[38;5;241m.\u001b[39mndarray), \u001b[38;5;124mf\u001b[39m\u001b[38;5;124m\"\u001b[39m\u001b[38;5;124mwrong type \u001b[39m\u001b[38;5;132;01m{\u001b[39;00m\u001b[38;5;28mtype\u001b[39m(X)\u001b[38;5;132;01m}\u001b[39;00m\u001b[38;5;124m\"\u001b[39m)\n\u001b[1;32m     53\u001b[0m     assert_true(\u001b[38;5;28misinstance\u001b[39m(y, numpy\u001b[38;5;241m.\u001b[39mndarray), \u001b[38;5;124mf\u001b[39m\u001b[38;5;124m\"\u001b[39m\u001b[38;5;124mwrong type \u001b[39m\u001b[38;5;132;01m{\u001b[39;00m\u001b[38;5;28mtype\u001b[39m(y)\u001b[38;5;132;01m}\u001b[39;00m\u001b[38;5;124m\"\u001b[39m)\n",
      "File \u001b[0;32m~/individual_project/.venv/lib/python3.12/site-packages/sklearn/utils/validation.py:1210\u001b[0m, in \u001b[0;36mcheck_X_y\u001b[0;34m(X, y, accept_sparse, accept_large_sparse, dtype, order, copy, force_all_finite, ensure_2d, allow_nd, multi_output, ensure_min_samples, ensure_min_features, y_numeric, estimator)\u001b[0m\n\u001b[1;32m   1192\u001b[0m X \u001b[38;5;241m=\u001b[39m check_array(\n\u001b[1;32m   1193\u001b[0m     X,\n\u001b[1;32m   1194\u001b[0m     accept_sparse\u001b[38;5;241m=\u001b[39maccept_sparse,\n\u001b[0;32m   (...)\u001b[0m\n\u001b[1;32m   1205\u001b[0m     input_name\u001b[38;5;241m=\u001b[39m\u001b[38;5;124m\"\u001b[39m\u001b[38;5;124mX\u001b[39m\u001b[38;5;124m\"\u001b[39m,\n\u001b[1;32m   1206\u001b[0m )\n\u001b[1;32m   1208\u001b[0m y \u001b[38;5;241m=\u001b[39m _check_y(y, multi_output\u001b[38;5;241m=\u001b[39mmulti_output, y_numeric\u001b[38;5;241m=\u001b[39my_numeric, estimator\u001b[38;5;241m=\u001b[39mestimator)\n\u001b[0;32m-> 1210\u001b[0m \u001b[43mcheck_consistent_length\u001b[49m\u001b[43m(\u001b[49m\u001b[43mX\u001b[49m\u001b[43m,\u001b[49m\u001b[43m \u001b[49m\u001b[43my\u001b[49m\u001b[43m)\u001b[49m\n\u001b[1;32m   1212\u001b[0m \u001b[38;5;28;01mreturn\u001b[39;00m X, y\n",
      "File \u001b[0;32m~/individual_project/.venv/lib/python3.12/site-packages/sklearn/utils/validation.py:430\u001b[0m, in \u001b[0;36mcheck_consistent_length\u001b[0;34m(*arrays)\u001b[0m\n\u001b[1;32m    428\u001b[0m uniques \u001b[38;5;241m=\u001b[39m np\u001b[38;5;241m.\u001b[39munique(lengths)\n\u001b[1;32m    429\u001b[0m \u001b[38;5;28;01mif\u001b[39;00m \u001b[38;5;28mlen\u001b[39m(uniques) \u001b[38;5;241m>\u001b[39m \u001b[38;5;241m1\u001b[39m:\n\u001b[0;32m--> 430\u001b[0m     \u001b[38;5;28;01mraise\u001b[39;00m \u001b[38;5;167;01mValueError\u001b[39;00m(\n\u001b[1;32m    431\u001b[0m         \u001b[38;5;124m\"\u001b[39m\u001b[38;5;124mFound input variables with inconsistent numbers of samples: \u001b[39m\u001b[38;5;132;01m%r\u001b[39;00m\u001b[38;5;124m\"\u001b[39m\n\u001b[1;32m    432\u001b[0m         \u001b[38;5;241m%\u001b[39m [\u001b[38;5;28mint\u001b[39m(l) \u001b[38;5;28;01mfor\u001b[39;00m l \u001b[38;5;129;01min\u001b[39;00m lengths]\n\u001b[1;32m    433\u001b[0m     )\n",
      "\u001b[0;31mValueError\u001b[0m: Found input variables with inconsistent numbers of samples: [98770, 197540]"
     ]
    }
   ],
   "source": [
    "# Get training model time\n",
    "start_train = time.time()\n",
    "model = XGBClassifier(\n",
    "    n_estimators=10,       # FHE-optimized (balance accuracy/circuit size)\n",
    "    max_depth=3,           # Critical for FHE performance\n",
    "    learning_rate=0.1,\n",
    "    n_bits=3,              # Quantization bits (FHE requirement)\n",
    "    objective=\"multi:softmax\",\n",
    "    num_class=len(le.classes_),\n",
    "    tree_method=\"hist\"     # Essential for large datasets\n",
    ")\n",
    "model.fit(X_train_sub, y_train_sub)\n",
    "training_time = time.time() - start_train\n",
    "\n",
    "# Get Resource Utilisation after training\n",
    "process = psutil.Process(os.getpid())\n",
    "memory_usage = process.memory_info().rss / 1024 ** 2  # Convert bytes to MB"
   ]
  },
  {
   "cell_type": "code",
   "execution_count": null,
   "metadata": {},
   "outputs": [],
   "source": [
    "# Get prediction time\n",
    "start_pred = time.time()\n",
    "y_pred = model.predict(X_test)\n",
    "prediction_time = time.time() - start_pred"
   ]
  },
  {
   "cell_type": "code",
   "execution_count": null,
   "metadata": {},
   "outputs": [],
   "source": [
    "# Get evaluation metrics\n",
    "accuracy = accuracy_score(y_test, y_pred)\n",
    "precision = precision_score(y_test, y_pred, average='weighted', zero_division=0)\n",
    "recall = recall_score(y_test, y_pred, average='weighted', zero_division=0)\n",
    "f1 = f1_score(y_test, y_pred, average='weighted', zero_division=0)\n",
    "class_report = classification_report(y_test, y_pred, zero_division=0)\n",
    "conf_matrix = confusion_matrix(y_test, y_pred)\n",
    "\n",
    "output_file = \"../results/XGB_plain.txt\"\n",
    "with open(output_file, \"w\") as f:\n",
    "    f.write(\"Plaintext Evaluation Metrics for XGB Model:\\n\")\n",
    "    f.write(\"-------------------\\n\")\n",
    "    f.write(f\"Training Time      : {training_time:.4f} seconds\\n\")\n",
    "    f.write(f\"Prediction Time    : {prediction_time:.4f} seconds\\n\")\n",
    "    f.write(f\"Memory Usage       : {memory_usage:.2f} MB\\n\")\n",
    "    f.write(f\"Accuracy           : {accuracy:.4f}\\n\")\n",
    "    f.write(f\"Precision          : {precision:.4f}\\n\")\n",
    "    f.write(f\"Recall             : {recall:.4f}\\n\")\n",
    "    f.write(f\"F1 Score           : {f1:.4f}\\n\")\n",
    "    f.write(\"\\nClassification Report:\\n\")\n",
    "    f.write(class_report + \"\\n\")\n",
    "    f.write(\"Confusion Matrix:\\n\")\n",
    "    f.write(str(conf_matrix) + \"\\n\")\n",
    "\n",
    "print(f\"Evaluation results have been written to '{output_file}'.\")\n"
   ]
  },
  {
   "cell_type": "code",
   "execution_count": null,
   "metadata": {},
   "outputs": [],
   "source": [
    "# Compile Model For FHE Inference\n",
    "print(\"Compiling model for FHE inference...\")\n",
    "start_compile = time.time()\n",
    "model.compile(X_train)\n",
    "compile_time = time.time() - start_compile\n",
    "print(f\"Compilation Time: {compile_time:.4f} seconds\")"
   ]
  },
  {
   "cell_type": "code",
   "execution_count": null,
   "metadata": {},
   "outputs": [],
   "source": [
    "# Save model\n",
    "from pathlib import Path\n",
    "fhe_model_path = Path('../models/compiled_XGB_model.json')\n",
    "with fhe_model_path.open('w') as f:\n",
    "    model.dump(f)"
   ]
  },
  {
   "cell_type": "code",
   "execution_count": null,
   "metadata": {},
   "outputs": [],
   "source": [
    "# Get prediction time on Encrypted Data\n",
    "start_pred = time.time()\n",
    "y_pred_fhe = model.predict(X_test, fhe=\"execute\")\n",
    "prediction_time = time.time() - start_pred"
   ]
  },
  {
   "cell_type": "code",
   "execution_count": null,
   "metadata": {},
   "outputs": [],
   "source": [
    "# Get evaluation metrics\n",
    "accuracy_plain_fhe = accuracy_score(y_test, y_pred_fhe)\n",
    "precision_plain_fhe = precision_score(y_test, y_pred_fhe, average='weighted', zero_division=0)\n",
    "recall_plain_fhe = recall_score(y_test, y_pred_fhe, average='weighted', zero_division=0)\n",
    "f1_plain_fhe = f1_score(y_test, y_pred_fhe, average='weighted', zero_division=0)\n",
    "class_report_plain_fhe = classification_report(y_test, y_pred_fhe, zero_division=0)\n",
    "conf_matrix_plain_fhe = confusion_matrix(y_test, y_pred_fhe)\n",
    "\n",
    "output_file = \"../results/XGB_encrypted.txt\"\n",
    "with open(output_file, \"w\") as f:\n",
    "    f.write(\"FHE XGB Evaluation Metrics for Encrypted Model:\\n\")\n",
    "    f.write(\"-----------------------------------------------\\n\")\n",
    "    f.write(f\"Training Time      : {training_time:.4f} seconds\\n\")\n",
    "    f.write(f\"Prediction Time    : {prediction_time:.4f} seconds\\n\")\n",
    "    f.write(f\"Memory Usage       : {memory_usage:.2f} MB\\n\")\n",
    "    f.write(f\"Accuracy           : {accuracy_plain_fhe:.4f}\\n\")\n",
    "    f.write(f\"Precision          : {precision_plain_fhe:.4f}\\n\")\n",
    "    f.write(f\"Recall             : {recall_plain_fhe:.4f}\\n\")\n",
    "    f.write(f\"F1 Score           : {f1_plain_fhe:.4f}\\n\")\n",
    "    f.write(\"\\nClassification Report:\\n\")\n",
    "    f.write(class_report_plain_fhe + \"\\n\")\n",
    "    f.write(\"Confusion Matrix:\\n\")\n",
    "    f.write(str(conf_matrix_plain_fhe) + \"\\n\")\n",
    "\n",
    "print(f\"FHE evaluation results saved to {output_file}\")"
   ]
  }
 ],
 "metadata": {
  "kernelspec": {
   "display_name": ".venv",
   "language": "python",
   "name": "python3"
  },
  "language_info": {
   "codemirror_mode": {
    "name": "ipython",
    "version": 3
   },
   "file_extension": ".py",
   "mimetype": "text/x-python",
   "name": "python",
   "nbconvert_exporter": "python",
   "pygments_lexer": "ipython3",
   "version": "3.12.3"
  }
 },
 "nbformat": 4,
 "nbformat_minor": 2
}
