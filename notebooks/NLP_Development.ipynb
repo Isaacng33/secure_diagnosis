{
 "cells": [
  {
   "cell_type": "code",
   "execution_count": 3,
   "metadata": {},
   "outputs": [],
   "source": [
    "import joblib\n",
    "import spacy\n",
    "import medspacy\n",
    "from medspacy.ner import TargetRule\n",
    "from medspacy.visualization import visualize_ent, visualize_dep\n",
    "from spellchecker import SpellChecker\n",
    "from rapidfuzz import process, fuzz"
   ]
  },
  {
   "cell_type": "code",
   "execution_count": 4,
   "metadata": {},
   "outputs": [],
   "source": [
    "nlp = medspacy.load()\n",
    "\n",
    "# Load valid symptoms\n",
    "symptom_columns = joblib.load('../models/symptom_columns.pkl')\n",
    "valid_symptoms = [symptom for symptom in symptom_columns]\n",
    "\n",
    "input_text = (\n",
    "    \"I have a headache but no fever. \"\n",
    ")"
   ]
  },
  {
   "cell_type": "code",
   "execution_count": 5,
   "metadata": {},
   "outputs": [],
   "source": [
    "# Adding target rules\n",
    "target_matcher = nlp.get_pipe(\"medspacy_target_matcher\")\n",
    "target_rules = []\n",
    "for symptom in valid_symptoms:\n",
    "    target_rules.append(TargetRule(literal=symptom, category=\"SYMPTOM\"))\n",
    "target_matcher.add(target_rules)\n"
   ]
  },
  {
   "cell_type": "code",
   "execution_count": 6,
   "metadata": {},
   "outputs": [],
   "source": [
    "# Preprocess the input text for typos\n",
    "def correct_typos(input_text):\n",
    "    corrected_tokens = []\n",
    "    spell = SpellChecker()\n",
    "    tokens = input_text.split()\n",
    "    for token in tokens:\n",
    "        if token.lower() not in spell:\n",
    "            correction = spell.correction(token)\n",
    "            corrected_tokens.append(correction if correction else token)\n",
    "        else:\n",
    "            corrected_tokens.append(token)\n",
    "    return \" \".join(corrected_tokens)"
   ]
  },
  {
   "cell_type": "code",
   "execution_count": 7,
   "metadata": {},
   "outputs": [],
   "source": [
    "# After correcting typos, map symptoms to valid symptoms\n",
    "def correct_symptom_candidate(candidate: str, valid_symptoms: list, threshold: int = 80) -> str:\n",
    "    \"\"\"\n",
    "    Given a candidate word from the input text (e.g. \"anxiety\"), fuzzy-match it\n",
    "    against the valid_symptoms list (which may contain multi-word phrases like \n",
    "    \"anxiety and nervousness\") and return the best matching valid symptom if the \n",
    "    fuzzy score is above the threshold. Otherwise, return the candidate as-is.\n",
    "    \"\"\"\n",
    "    candidate = candidate.lower()\n",
    "    best_match, score, _ = process.extractOne(candidate, valid_symptoms, scorer=fuzz.token_set_ratio)\n",
    "    if score >= threshold:\n",
    "        return best_match.lower()\n",
    "    return candidate\n",
    "\n",
    "def fuzzy_match_text(text: str, valid_symptoms: list, threshold: int = 80) -> str:\n",
    "    tokens = text.split()\n",
    "    corrected_tokens = [correct_symptom_candidate(token, valid_symptoms, threshold) for token in tokens]\n",
    "    deduped_tokens = []\n",
    "    for token in corrected_tokens:\n",
    "        if not deduped_tokens or token != deduped_tokens[-1]:\n",
    "            deduped_tokens.append(token)\n",
    "    return \" \".join(deduped_tokens)\n"
   ]
  },
  {
   "cell_type": "code",
   "execution_count": 8,
   "metadata": {},
   "outputs": [
    {
     "name": "stdout",
     "output_type": "stream",
     "text": [
      "i have a headache but no fever\n"
     ]
    }
   ],
   "source": [
    "# Use medspacy to locate valid symptoms\n",
    "# Apply contextual anlysis to filter out negated symptoms\n",
    "corrected_text = correct_typos(input_text)\n",
    "fuzzy_text = fuzzy_match_text(corrected_text, valid_symptoms)\n",
    "print(fuzzy_text)\n",
    "\n",
    "doc = nlp(fuzzy_text)"
   ]
  },
  {
   "cell_type": "code",
   "execution_count": 9,
   "metadata": {},
   "outputs": [
    {
     "name": "stdout",
     "output_type": "stream",
     "text": [
      "Final Extracted Valid Symptoms: ['headache']\n"
     ]
    }
   ],
   "source": [
    "final_symptoms = set()\n",
    "for ent in doc.ents:\n",
    "    if ent.label_ == \"SYMPTOM\" and not ent._.is_negated:\n",
    "        final_symptoms.add(ent.text.lower())\n",
    "print(\"Final Extracted Valid Symptoms:\", list(final_symptoms))"
   ]
  },
  {
   "cell_type": "code",
   "execution_count": null,
   "metadata": {},
   "outputs": [
    {
     "ename": "ImportError",
     "evalue": "cannot import name 'display' from 'IPython.core.display' (/home/isaacng33/individual_project/.venv/lib/python3.12/site-packages/IPython/core/display.py)",
     "output_type": "error",
     "traceback": [
      "\u001b[31m---------------------------------------------------------------------------\u001b[39m",
      "\u001b[31mImportError\u001b[39m                               Traceback (most recent call last)",
      "\u001b[36mCell\u001b[39m\u001b[36m \u001b[39m\u001b[32mIn[13]\u001b[39m\u001b[32m, line 2\u001b[39m\n\u001b[32m      1\u001b[39m \u001b[38;5;66;03m# Visualize the entities and dependencies\u001b[39;00m\n\u001b[32m----> \u001b[39m\u001b[32m2\u001b[39m \u001b[43mvisualize_dep\u001b[49m\u001b[43m(\u001b[49m\u001b[43mdoc\u001b[49m\u001b[43m)\u001b[49m\n",
      "\u001b[36mFile \u001b[39m\u001b[32m~/individual_project/.venv/lib/python3.12/site-packages/medspacy/visualization.py:249\u001b[39m, in \u001b[36mvisualize_dep\u001b[39m\u001b[34m(doc, jupyter)\u001b[39m\n\u001b[32m    237\u001b[39m     modifier_data = token_data_mapping[doc[modifier.modifier_span[\u001b[32m0\u001b[39m]]]\n\u001b[32m    238\u001b[39m     dep_data[\u001b[33m\"\u001b[39m\u001b[33marcs\u001b[39m\u001b[33m\"\u001b[39m].append(\n\u001b[32m    239\u001b[39m         {\n\u001b[32m    240\u001b[39m             \u001b[33m\"\u001b[39m\u001b[33mstart\u001b[39m\u001b[33m\"\u001b[39m: \u001b[38;5;28mmin\u001b[39m(target_data[\u001b[33m\"\u001b[39m\u001b[33mindex\u001b[39m\u001b[33m\"\u001b[39m], modifier_data[\u001b[33m\"\u001b[39m\u001b[33mindex\u001b[39m\u001b[33m\"\u001b[39m]),\n\u001b[32m   (...)\u001b[39m\u001b[32m    246\u001b[39m         }\n\u001b[32m    247\u001b[39m     )\n\u001b[32m--> \u001b[39m\u001b[32m249\u001b[39m \u001b[38;5;28;01mreturn\u001b[39;00m \u001b[43mdisplacy\u001b[49m\u001b[43m.\u001b[49m\u001b[43mrender\u001b[49m\u001b[43m(\u001b[49m\u001b[43mdep_data\u001b[49m\u001b[43m,\u001b[49m\u001b[43m \u001b[49m\u001b[43mmanual\u001b[49m\u001b[43m=\u001b[49m\u001b[38;5;28;43;01mTrue\u001b[39;49;00m\u001b[43m,\u001b[49m\u001b[43m \u001b[49m\u001b[43mjupyter\u001b[49m\u001b[43m=\u001b[49m\u001b[43mjupyter\u001b[49m\u001b[43m)\u001b[49m\n",
      "\u001b[36mFile \u001b[39m\u001b[32m~/individual_project/.venv/lib/python3.12/site-packages/spacy/displacy/__init__.py:69\u001b[39m, in \u001b[36mrender\u001b[39m\u001b[34m(docs, style, page, minify, jupyter, options, manual)\u001b[39m\n\u001b[32m     65\u001b[39m     html = RENDER_WRAPPER(html)\n\u001b[32m     66\u001b[39m \u001b[38;5;28;01mif\u001b[39;00m jupyter \u001b[38;5;129;01mor\u001b[39;00m (jupyter \u001b[38;5;129;01mis\u001b[39;00m \u001b[38;5;28;01mNone\u001b[39;00m \u001b[38;5;129;01mand\u001b[39;00m is_in_jupyter()):\n\u001b[32m     67\u001b[39m     \u001b[38;5;66;03m# return HTML rendered by IPython display()\u001b[39;00m\n\u001b[32m     68\u001b[39m     \u001b[38;5;66;03m# See #4840 for details on span wrapper to disable mathjax\u001b[39;00m\n\u001b[32m---> \u001b[39m\u001b[32m69\u001b[39m     \u001b[38;5;28;01mfrom\u001b[39;00m\u001b[38;5;250m \u001b[39m\u001b[34;01mIPython\u001b[39;00m\u001b[34;01m.\u001b[39;00m\u001b[34;01mcore\u001b[39;00m\u001b[34;01m.\u001b[39;00m\u001b[34;01mdisplay\u001b[39;00m\u001b[38;5;250m \u001b[39m\u001b[38;5;28;01mimport\u001b[39;00m HTML, display\n\u001b[32m     71\u001b[39m     \u001b[38;5;28;01mreturn\u001b[39;00m display(HTML(\u001b[33m'\u001b[39m\u001b[33m<span class=\u001b[39m\u001b[33m\"\u001b[39m\u001b[33mtex2jax_ignore\u001b[39m\u001b[33m\"\u001b[39m\u001b[33m>\u001b[39m\u001b[38;5;132;01m{}\u001b[39;00m\u001b[33m</span>\u001b[39m\u001b[33m'\u001b[39m.format(html)))\n\u001b[32m     72\u001b[39m \u001b[38;5;28;01mreturn\u001b[39;00m html\n",
      "\u001b[31mImportError\u001b[39m: cannot import name 'display' from 'IPython.core.display' (/home/isaacng33/individual_project/.venv/lib/python3.12/site-packages/IPython/core/display.py)"
     ]
    }
   ],
   "source": [
    "# Visualize the entities and dependencies\n",
    "visualize_ent(doc)"
   ]
  }
 ],
 "metadata": {
  "kernelspec": {
   "display_name": ".venv",
   "language": "python",
   "name": "python3"
  },
  "language_info": {
   "codemirror_mode": {
    "name": "ipython",
    "version": 3
   },
   "file_extension": ".py",
   "mimetype": "text/x-python",
   "name": "python",
   "nbconvert_exporter": "python",
   "pygments_lexer": "ipython3",
   "version": "3.12.3"
  }
 },
 "nbformat": 4,
 "nbformat_minor": 2
}
