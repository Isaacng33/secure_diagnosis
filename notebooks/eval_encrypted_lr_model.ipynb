{
 "cells": [
  {
   "cell_type": "code",
   "execution_count": 1,
   "metadata": {},
   "outputs": [],
   "source": [
    "import os\n",
    "import time\n",
    "import joblib\n",
    "import psutil\n",
    "import numpy as np\n",
    "import pandas as pd\n",
    "from sklearn.model_selection import train_test_split\n",
    "from sklearn.metrics import (accuracy_score, precision_score, recall_score, f1_score, \n",
    "                             classification_report, confusion_matrix)\n",
    "from sklearn.preprocessing import LabelEncoder\n",
    "from concrete.ml.sklearn import LogisticRegression as ConcreteLogisticRegression"
   ]
  },
  {
   "cell_type": "code",
   "execution_count": 2,
   "metadata": {},
   "outputs": [
    {
     "data": {
      "text/plain": [
       "['../data/raw/raw_concrete_y.pkl']"
      ]
     },
     "execution_count": 2,
     "metadata": {},
     "output_type": "execute_result"
    }
   ],
   "source": [
    "# Load the dataset\n",
    "df = pd.read_csv('../data/raw/dataset_1/newdataset.csv')\n",
    "\n",
    "# First Column (Diseases) is the target variable.\n",
    "# All other columns are symptoms.\n",
    "X = df.drop('diseases', axis=1)\n",
    "X = X.astype(np.float32)\n",
    "y = df['diseases']\n",
    "\n",
    "# store X and y\n",
    "joblib.dump(X, '../data/raw/raw_concrete_X.pkl')\n",
    "joblib.dump(y, '../data/raw/raw_concrete_y.pkl')"
   ]
  },
  {
   "cell_type": "code",
   "execution_count": 3,
   "metadata": {},
   "outputs": [
    {
     "data": {
      "text/plain": [
       "['../data/raw/X_train_concrete.pkl']"
      ]
     },
     "execution_count": 3,
     "metadata": {},
     "output_type": "execute_result"
    }
   ],
   "source": [
    "# Encode disease names to numerical labels.\n",
    "le = LabelEncoder()\n",
    "y_encoded = le.fit_transform(y)\n",
    "\n",
    "# Create a train-test split\n",
    "X_train, X_test, y_train, y_test = train_test_split(\n",
    "    X, y_encoded, test_size=0.2, random_state=42\n",
    ")\n",
    "\n",
    "joblib.dump(X_train, '../data/raw/X_train_concrete.pkl')"
   ]
  },
  {
   "cell_type": "code",
   "execution_count": 4,
   "metadata": {},
   "outputs": [],
   "source": [
    "# Get training model time using ConcreteML Training\n",
    "start_train = time.time()\n",
    "model = ConcreteLogisticRegression()\n",
    "model.fit(X_train, y_train)\n",
    "training_time = time.time() - start_train\n",
    "\n",
    "# Get Resource Utilisation after training\n",
    "process = psutil.Process(os.getpid())\n",
    "memory_usage = process.memory_info().rss / 1024 ** 2  # Convert bytes to MB"
   ]
  },
  {
   "cell_type": "code",
   "execution_count": 5,
   "metadata": {},
   "outputs": [],
   "source": [
    "# Get prediction time on Plaintext Data\n",
    "start_pred = time.time()\n",
    "y_pred = model.predict(X_test)\n",
    "prediction_time = time.time() - start_pred"
   ]
  },
  {
   "cell_type": "code",
   "execution_count": 6,
   "metadata": {},
   "outputs": [
    {
     "name": "stdout",
     "output_type": "stream",
     "text": [
      "Plaintext evaluation results saved to ../results/lr_encrypted_plain.txt\n"
     ]
    }
   ],
   "source": [
    "# Get evaluation metrics\n",
    "accuracy_plain = accuracy_score(y_test, y_pred)\n",
    "precision_plain = precision_score(y_test, y_pred, average='weighted', zero_division=0)\n",
    "recall_plain = recall_score(y_test, y_pred, average='weighted', zero_division=0)\n",
    "f1_plain = f1_score(y_test, y_pred, average='weighted', zero_division=0)\n",
    "class_report_plain = classification_report(y_test, y_pred, zero_division=0)\n",
    "conf_matrix_plain = confusion_matrix(y_test, y_pred)\n",
    "\n",
    "output_file = \"../results/lr_encrypted_plain.txt\"\n",
    "with open(output_file, \"w\") as f:\n",
    "    f.write(\"Plaintext Evaluation Metrics for LR Encrypted Model:\\n\")\n",
    "    f.write(\"-----------------------------------------------\\n\")\n",
    "    f.write(f\"Training Time      : {training_time:.4f} seconds\\n\")\n",
    "    f.write(f\"Prediction Time    : {prediction_time:.4f} seconds\\n\")\n",
    "    f.write(f\"Memory Usage       : {memory_usage:.2f} MB\\n\")\n",
    "    f.write(f\"Accuracy           : {accuracy_plain:.4f}\\n\")\n",
    "    f.write(f\"Precision          : {precision_plain:.4f}\\n\")\n",
    "    f.write(f\"Recall             : {recall_plain:.4f}\\n\")\n",
    "    f.write(f\"F1 Score           : {f1_plain:.4f}\\n\")\n",
    "    f.write(\"\\nClassification Report:\\n\")\n",
    "    f.write(class_report_plain + \"\\n\")\n",
    "    f.write(\"Confusion Matrix:\\n\")\n",
    "    f.write(str(conf_matrix_plain) + \"\\n\")\n",
    "\n",
    "print(f\"Plaintext evaluation results saved to {output_file}\")"
   ]
  },
  {
   "cell_type": "code",
   "execution_count": 7,
   "metadata": {},
   "outputs": [
    {
     "name": "stdout",
     "output_type": "stream",
     "text": [
      "Compiling model for FHE inference...\n",
      "Compilation Time: 237.2385 seconds\n"
     ]
    }
   ],
   "source": [
    "# Compile Model For FHE Inference\n",
    "print(\"Compiling model for FHE inference...\")\n",
    "start_compile = time.time()\n",
    "model.compile(X_train)\n",
    "compile_time = time.time() - start_compile\n",
    "print(f\"Compilation Time: {compile_time:.4f} seconds\")"
   ]
  },
  {
   "cell_type": "code",
   "execution_count": 8,
   "metadata": {},
   "outputs": [],
   "source": [
    "# Save model\n",
    "from pathlib import Path\n",
    "fhe_model_path = Path('../models/compiled_lr_model.json')\n",
    "with fhe_model_path.open('w') as f:\n",
    "    model.dump(f)\n"
   ]
  },
  {
   "cell_type": "code",
   "execution_count": 9,
   "metadata": {},
   "outputs": [],
   "source": [
    "# Get prediction time on Encrypted Data\n",
    "start_pred = time.time()\n",
    "y_pred_fhe = model.predict(X_test, fhe=\"execute\")\n",
    "prediction_time = time.time() - start_pred"
   ]
  },
  {
   "cell_type": "code",
   "execution_count": 11,
   "metadata": {},
   "outputs": [
    {
     "name": "stdout",
     "output_type": "stream",
     "text": [
      "FHE evaluation results saved to ../results/lr_encrypted.txt\n"
     ]
    }
   ],
   "source": [
    "# Get evaluation metrics\n",
    "accuracy_plain_fhe = accuracy_score(y_test, y_pred_fhe)\n",
    "precision_plain_fhe = precision_score(y_test, y_pred_fhe, average='weighted', zero_division=0)\n",
    "recall_plain_fhe = recall_score(y_test, y_pred_fhe, average='weighted', zero_division=0)\n",
    "f1_plain_fhe = f1_score(y_test, y_pred_fhe, average='weighted', zero_division=0)\n",
    "class_report_plain_fhe = classification_report(y_test, y_pred_fhe, zero_division=0)\n",
    "conf_matrix_plain_fhe = confusion_matrix(y_test, y_pred_fhe)\n",
    "\n",
    "output_file = \"../results/lr_encrypted.txt\"\n",
    "with open(output_file, \"w\") as f:\n",
    "    f.write(\"FHE LR Evaluation Metrics for Encrypted Model:\\n\")\n",
    "    f.write(\"-----------------------------------------------\\n\")\n",
    "    f.write(f\"Compile Time      : {compile_time:.4f} seconds\\n\")\n",
    "    f.write(f\"Prediction Time    : {prediction_time:.4f} seconds\\n\")\n",
    "    f.write(f\"Accuracy           : {accuracy_plain_fhe:.4f}\\n\")\n",
    "    f.write(f\"Precision          : {precision_plain_fhe:.4f}\\n\")\n",
    "    f.write(f\"Recall             : {recall_plain_fhe:.4f}\\n\")\n",
    "    f.write(f\"F1 Score           : {f1_plain_fhe:.4f}\\n\")\n",
    "    f.write(\"\\nClassification Report:\\n\")\n",
    "    f.write(class_report_plain_fhe + \"\\n\")\n",
    "    f.write(\"Confusion Matrix:\\n\")\n",
    "    f.write(str(conf_matrix_plain_fhe) + \"\\n\")\n",
    "\n",
    "print(f\"FHE evaluation results saved to {output_file}\")"
   ]
  }
 ],
 "metadata": {
  "kernelspec": {
   "display_name": ".venv",
   "language": "python",
   "name": "python3"
  },
  "language_info": {
   "codemirror_mode": {
    "name": "ipython",
    "version": 3
   },
   "file_extension": ".py",
   "mimetype": "text/x-python",
   "name": "python",
   "nbconvert_exporter": "python",
   "pygments_lexer": "ipython3",
   "version": "3.12.3"
  }
 },
 "nbformat": 4,
 "nbformat_minor": 2
}
