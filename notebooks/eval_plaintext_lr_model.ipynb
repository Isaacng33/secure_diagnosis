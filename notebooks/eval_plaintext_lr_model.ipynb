{
 "cells": [
  {
   "cell_type": "code",
   "execution_count": 1,
   "metadata": {},
   "outputs": [],
   "source": [
    "import time\n",
    "import os\n",
    "import psutil\n",
    "import joblib\n",
    "import pandas as pd\n",
    "from sklearn.model_selection import train_test_split\n",
    "from sklearn.linear_model import LogisticRegression\n",
    "from sklearn.preprocessing import LabelEncoder\n",
    "from sklearn.metrics import (accuracy_score, classification_report,\n",
    "                             confusion_matrix, precision_score, recall_score,\n",
    "                             f1_score)"
   ]
  },
  {
   "cell_type": "code",
   "execution_count": 2,
   "metadata": {},
   "outputs": [
    {
     "data": {
      "text/plain": [
       "['../data/raw/raw_y.pkl']"
      ]
     },
     "execution_count": 2,
     "metadata": {},
     "output_type": "execute_result"
    }
   ],
   "source": [
    "# Load the dataset\n",
    "df = pd.read_csv('../data/raw/dataset_1/newdataset.csv')\n",
    "\n",
    "# First Column (Diseases) is the target variable.\n",
    "# All other columns are symptoms.\n",
    "X = df.drop('diseases', axis=1)\n",
    "y = df['diseases']\n",
    "\n",
    "# store X and y\n",
    "joblib.dump(X, '../data/raw/raw_X.pkl')\n",
    "joblib.dump(y, '../data/raw/raw_y.pkl')"
   ]
  },
  {
   "cell_type": "code",
   "execution_count": 3,
   "metadata": {},
   "outputs": [],
   "source": [
    "# Encode disease names to numerical labels.\n",
    "le = LabelEncoder()\n",
    "y_encoded = le.fit_transform(y)\n",
    "\n",
    "# Create a train-test split\n",
    "X_train, X_test, y_train, y_test = train_test_split(\n",
    "    X, y_encoded, test_size=0.2, random_state=42\n",
    ")"
   ]
  },
  {
   "cell_type": "code",
   "execution_count": 4,
   "metadata": {},
   "outputs": [],
   "source": [
    "# Get training model time\n",
    "start_train = time.time()\n",
    "model = LogisticRegression(multi_class='multinomial', solver='lbfgs', max_iter=1000)\n",
    "model.fit(X_train, y_train)\n",
    "training_time = time.time() - start_train\n",
    "\n",
    "# Get Resource Utilisation after training\n",
    "process = psutil.Process(os.getpid())\n",
    "memory_usage = process.memory_info().rss / 1024 ** 2  # Convert bytes to MB"
   ]
  },
  {
   "cell_type": "code",
   "execution_count": 5,
   "metadata": {},
   "outputs": [],
   "source": [
    "# Get prediction time\n",
    "start_pred = time.time()\n",
    "y_pred = model.predict(X_test)\n",
    "prediction_time = time.time() - start_pred"
   ]
  },
  {
   "cell_type": "code",
   "execution_count": 6,
   "metadata": {},
   "outputs": [
    {
     "name": "stdout",
     "output_type": "stream",
     "text": [
      "Evaluation results have been written to '../results/lr_baseline.txt'.\n"
     ]
    }
   ],
   "source": [
    "# Get evaluation metrics\n",
    "accuracy = accuracy_score(y_test, y_pred)\n",
    "precision = precision_score(y_test, y_pred, average='weighted', zero_division=0)\n",
    "recall = recall_score(y_test, y_pred, average='weighted', zero_division=0)\n",
    "f1 = f1_score(y_test, y_pred, average='weighted', zero_division=0)\n",
    "class_report = classification_report(y_test, y_pred, zero_division=0)\n",
    "conf_matrix = confusion_matrix(y_test, y_pred)\n",
    "\n",
    "output_file = \"../results/lr_baseline.txt\"\n",
    "with open(output_file, \"w\") as f:\n",
    "    f.write(\"Plaintext LR Evaluation Metrics:\\n\")\n",
    "    f.write(\"-------------------\\n\")\n",
    "    f.write(f\"Training Time      : {training_time:.4f} seconds\\n\")\n",
    "    f.write(f\"Prediction Time    : {prediction_time:.4f} seconds\\n\")\n",
    "    f.write(f\"Memory Usage       : {memory_usage:.2f} MB\\n\")\n",
    "    f.write(f\"Accuracy           : {accuracy:.4f}\\n\")\n",
    "    f.write(f\"Precision          : {precision:.4f}\\n\")\n",
    "    f.write(f\"Recall             : {recall:.4f}\\n\")\n",
    "    f.write(f\"F1 Score           : {f1:.4f}\\n\")\n",
    "    f.write(\"\\nClassification Report:\\n\")\n",
    "    f.write(class_report + \"\\n\")\n",
    "    f.write(\"Confusion Matrix:\\n\")\n",
    "    f.write(str(conf_matrix) + \"\\n\")\n",
    "\n",
    "print(f\"Evaluation results have been written to '{output_file}'.\")"
   ]
  }
 ],
 "metadata": {
  "kernelspec": {
   "display_name": ".venv",
   "language": "python",
   "name": "python3"
  },
  "language_info": {
   "codemirror_mode": {
    "name": "ipython",
    "version": 3
   },
   "file_extension": ".py",
   "mimetype": "text/x-python",
   "name": "python",
   "nbconvert_exporter": "python",
   "pygments_lexer": "ipython3",
   "version": "3.12.3"
  }
 },
 "nbformat": 4,
 "nbformat_minor": 2
}
