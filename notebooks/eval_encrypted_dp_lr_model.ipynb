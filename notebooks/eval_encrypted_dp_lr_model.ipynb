{
 "cells": [
  {
   "cell_type": "code",
   "execution_count": 44,
   "metadata": {},
   "outputs": [],
   "source": [
    "import pandas as pd\n",
    "import torch\n",
    "import torch.nn as nn\n",
    "from torch.utils.data import DataLoader, TensorDataset\n",
    "from opacus import PrivacyEngine\n",
    "from sklearn.model_selection import train_test_split\n",
    "from sklearn.preprocessing import LabelEncoder\n",
    "from sklearn.linear_model import LogisticRegression as SKlearnLogisticRegression\n",
    "from sklearn.metrics import (accuracy_score, precision_score, recall_score, \n",
    "                             f1_score, classification_report, confusion_matrix)\n",
    "from concrete.ml.sklearn import LogisticRegression as ConcreteLogisticRegression\n",
    "import numpy as np\n",
    "import time\n",
    "import psutil\n",
    "import os"
   ]
  },
  {
   "cell_type": "code",
   "execution_count": 45,
   "metadata": {},
   "outputs": [],
   "source": [
    "# Helper function for memory usage\n",
    "def get_memory_usage():\n",
    "    process = psutil.Process(os.getpid())\n",
    "    return process.memory_info().rss / 1024 ** 2  # Convert bytes to MB"
   ]
  },
  {
   "cell_type": "code",
   "execution_count": 46,
   "metadata": {},
   "outputs": [],
   "source": [
    "# Define PyTorch Logistic Regression Model\n",
    "class LogisticRegression(nn.Module):\n",
    "    def __init__(self, num_features, num_classes):\n",
    "        super(LogisticRegression, self).__init__()\n",
    "        self.linear = nn.Linear(num_features, num_classes)\n",
    "    \n",
    "    def forward(self, x):\n",
    "        return self.linear(x)  # Return logits for CrossEntropyLoss"
   ]
  },
  {
   "cell_type": "code",
   "execution_count": 47,
   "metadata": {},
   "outputs": [],
   "source": [
    "# Load the dataset\n",
    "df = pd.read_csv('../data/raw/dataset_1/newdataset.csv')\n",
    "                 \n",
    "X = df.drop('diseases', axis=1)\n",
    "y = df['diseases']\n",
    "\n",
    "le = LabelEncoder()\n",
    "y_encoded = le.fit_transform(y)\n",
    "X_train, X_test, y_train, y_test = train_test_split(X, y_encoded, test_size=0.2, random_state=42)\n",
    "\n",
    "# Convert to numpy arrays\n",
    "X_train = X_train.to_numpy().astype(np.float32)\n",
    "X_test = X_test.to_numpy().astype(np.float32)\n",
    "y_train = y_train.astype(np.int64)  \n",
    "y_test = y_test.astype(np.int64)"
   ]
  },
  {
   "cell_type": "code",
   "execution_count": 48,
   "metadata": {},
   "outputs": [],
   "source": [
    "# Convert to PyTorch tensors and create DataLoader\n",
    "train_dataset = TensorDataset(\n",
    "    torch.from_numpy(X_train), \n",
    "    torch.from_numpy(y_train)\n",
    ")\n",
    "train_loader = DataLoader(train_dataset, batch_size=128, shuffle=True)"
   ]
  },
  {
   "cell_type": "code",
   "execution_count": 49,
   "metadata": {},
   "outputs": [],
   "source": [
    "# Initialize model and optimizer\n",
    "model = LogisticRegression(\n",
    "    num_features=X_train.shape[1],\n",
    "    num_classes=len(le.classes_)\n",
    ")\n",
    "optimizer = torch.optim.SGD(model.parameters(), lr=0.2)\n",
    "\n",
    "# Differential Privacy Parameters\n",
    "PRIVACY_PARAMS = {\n",
    "    \"noise_multiplier\": 0.7,\n",
    "    \"max_grad_norm\": 1.0,\n",
    "    \"delta\": 1e-5\n",
    "}\n",
    "\n",
    "# Attach DP Engine\n",
    "privacy_engine = PrivacyEngine()\n",
    "model, optimizer, train_loader = privacy_engine.make_private(\n",
    "    module=model,\n",
    "    optimizer=optimizer,\n",
    "    data_loader=train_loader,\n",
    "    noise_multiplier=PRIVACY_PARAMS[\"noise_multiplier\"],\n",
    "    max_grad_norm=PRIVACY_PARAMS[\"max_grad_norm\"]\n",
    ")"
   ]
  },
  {
   "cell_type": "code",
   "execution_count": 50,
   "metadata": {},
   "outputs": [
    {
     "name": "stdout",
     "output_type": "stream",
     "text": [
      "Epoch 1/15 | ε = 0.45\n",
      "Epoch 2/15 | ε = 0.55\n",
      "Epoch 3/15 | ε = 0.63\n",
      "Epoch 4/15 | ε = 0.69\n",
      "Epoch 5/15 | ε = 0.74\n",
      "Epoch 6/15 | ε = 0.79\n",
      "Epoch 7/15 | ε = 0.83\n",
      "Epoch 8/15 | ε = 0.88\n",
      "Epoch 9/15 | ε = 0.92\n",
      "Epoch 10/15 | ε = 0.96\n",
      "Epoch 11/15 | ε = 0.99\n",
      "Epoch 12/15 | ε = 1.03\n",
      "Epoch 13/15 | ε = 1.06\n",
      "Epoch 14/15 | ε = 1.09\n",
      "Epoch 15/15 | ε = 1.13\n"
     ]
    }
   ],
   "source": [
    "start_train = time.time()\n",
    "model.train()\n",
    "for epoch in range(15):\n",
    "    for X_batch, y_batch in train_loader:\n",
    "        optimizer.zero_grad()\n",
    "        outputs = model(X_batch)\n",
    "        loss = nn.CrossEntropyLoss()(outputs, y_batch)\n",
    "        loss.backward()\n",
    "        optimizer.step()\n",
    "    \n",
    "    # Calculate privacy spending\n",
    "    epsilon = privacy_engine.get_epsilon(PRIVACY_PARAMS[\"delta\"])\n",
    "    print(f\"Epoch {epoch+1}/15 | ε = {epsilon:.2f}\")\n",
    "\n",
    "training_time = time.time() - start_train\n",
    "memory_usage = get_memory_usage()"
   ]
  },
  {
   "cell_type": "code",
   "execution_count": 51,
   "metadata": {},
   "outputs": [],
   "source": [
    "# Convert to scikit-learn model\n",
    "sk_model = SKlearnLogisticRegression(\n",
    "    multi_class='multinomial',\n",
    "    solver='lbfgs',\n",
    "    max_iter=1,          # Prevent re-training\n",
    "    warm_start=False,\n",
    "    penalty=None         # Match PyTorch's no regularization\n",
    ")\n",
    "# Initialize dummy fit\n",
    "sk_model.fit(X_train[:2], y_train[:2])\n",
    "\n",
    "# Transfer learned parameters\n",
    "sk_model.coef_ = model.linear.weight.detach().numpy()  # Shape: (n_classes, n_features)\n",
    "sk_model.intercept_ = model.linear.bias.detach().numpy()\n",
    "sk_model.classes_ = np.unique(y_encoded)"
   ]
  },
  {
   "cell_type": "code",
   "execution_count": 52,
   "metadata": {},
   "outputs": [],
   "source": [
    "# Evaluate\n",
    "start_pred = time.time()\n",
    "y_pred = sk_model.predict(X_test)\n",
    "prediction_time = time.time() - start_pred\n"
   ]
  },
  {
   "cell_type": "code",
   "execution_count": 53,
   "metadata": {},
   "outputs": [
    {
     "data": {
      "text/plain": [
       "['../models/final_plaintext_dp_logistic_model.pkl']"
      ]
     },
     "execution_count": 53,
     "metadata": {},
     "output_type": "execute_result"
    }
   ],
   "source": [
    "# Save Artifact\n",
    "import joblib\n",
    "joblib.dump(sk_model, '../models/final_plaintext_dp_logistic_model.pkl')"
   ]
  },
  {
   "cell_type": "code",
   "execution_count": 54,
   "metadata": {},
   "outputs": [
    {
     "name": "stdout",
     "output_type": "stream",
     "text": [
      "Plaintext evaluation results saved to ../results/lr_dp_plain.txt\n"
     ]
    }
   ],
   "source": [
    "# Get evaluation metrics\n",
    "accuracy_plain = accuracy_score(y_test, y_pred)\n",
    "precision_plain = precision_score(y_test, y_pred, average='weighted', zero_division=0)\n",
    "recall_plain = recall_score(y_test, y_pred, average='weighted', zero_division=0)\n",
    "f1_plain = f1_score(y_test, y_pred, average='weighted', zero_division=0)\n",
    "class_report_plain = classification_report(y_test, y_pred, zero_division=0)\n",
    "conf_matrix_plain = confusion_matrix(y_test, y_pred)\n",
    "\n",
    "output_file = \"../results/lr_dp_plain.txt\"\n",
    "with open(output_file, \"w\") as f:\n",
    "    f.write(\"Plaintext Evaluation Metrics for LR DP Model:\\n\")\n",
    "    f.write(\"-----------------------------------------------\\n\")\n",
    "    f.write(f\"Training Time      : {training_time:.4f} seconds\\n\")\n",
    "    f.write(f\"Prediction Time    : {prediction_time:.4f} seconds\\n\")\n",
    "    f.write(f\"Memory Usage       : {memory_usage:.2f} MB\\n\")\n",
    "    f.write(f\"Accuracy           : {accuracy_plain:.4f}\\n\")\n",
    "    f.write(f\"Precision          : {precision_plain:.4f}\\n\")\n",
    "    f.write(f\"Recall             : {recall_plain:.4f}\\n\")\n",
    "    f.write(f\"F1 Score           : {f1_plain:.4f}\\n\")\n",
    "    f.write(\"\\nClassification Report:\\n\")\n",
    "    f.write(class_report_plain + \"\\n\")\n",
    "    f.write(\"Confusion Matrix:\\n\")\n",
    "    f.write(str(conf_matrix_plain) + \"\\n\")\n",
    "\n",
    "print(f\"Plaintext evaluation results saved to {output_file}\")"
   ]
  },
  {
   "cell_type": "code",
   "execution_count": 55,
   "metadata": {},
   "outputs": [
    {
     "name": "stdout",
     "output_type": "stream",
     "text": [
      "Converting model for FHE inference...\n",
      "Compilation Time: 215.2022 seconds\n"
     ]
    }
   ],
   "source": [
    "# Compile Model For FHE Inference\n",
    "print(\"Converting model for FHE inference...\")\n",
    "cml_model = ConcreteLogisticRegression.from_sklearn_model(sk_model, X_train, n_bits=8)\n",
    "start_compile = time.time()\n",
    "cml_model.compile(X_train)\n",
    "compile_time = time.time() - start_compile\n",
    "print(f\"Compilation Time: {compile_time:.4f} seconds\")"
   ]
  },
  {
   "cell_type": "code",
   "execution_count": 56,
   "metadata": {},
   "outputs": [],
   "source": [
    "# Save Artifacts\n",
    "from pathlib import Path\n",
    "fhe_model_path = Path('../models/compiled_dp_lr_model.json')\n",
    "with fhe_model_path.open('w') as f:\n",
    "    cml_model.dump(f)"
   ]
  },
  {
   "cell_type": "code",
   "execution_count": 57,
   "metadata": {},
   "outputs": [],
   "source": [
    "# Perform FHE inference\n",
    "start_pred_fhe = time.time()\n",
    "y_pred_fhe = cml_model.predict(X_test, fhe=\"execute\")\n",
    "prediction_time_fhe = time.time() - start_pred_fhe"
   ]
  },
  {
   "cell_type": "code",
   "execution_count": 60,
   "metadata": {},
   "outputs": [
    {
     "name": "stdout",
     "output_type": "stream",
     "text": [
      "FHE evaluation results saved to ../results/lr_dp_fhe.txt\n"
     ]
    }
   ],
   "source": [
    "# Get FHE evaluation metrics\n",
    "accuracy_fhe = accuracy_score(y_test, y_pred_fhe)\n",
    "precision_fhe = precision_score(y_test, y_pred_fhe, average='weighted', zero_division=0)\n",
    "recall_fhe = recall_score(y_test, y_pred_fhe, average='weighted', zero_division=0)\n",
    "f1_fhe = f1_score(y_test, y_pred_fhe, average='weighted', zero_division=0)\n",
    "class_report_fhe = classification_report(y_test, y_pred_fhe, zero_division=0)\n",
    "conf_matrix_fhe = confusion_matrix(y_test, y_pred_fhe)\n",
    "\n",
    "# Save FHE results\n",
    "output_file_fhe = \"../results/lr_dp_fhe.txt\"\n",
    "with open(output_file_fhe, \"w\") as f:\n",
    "    f.write(\"FHE Evaluation Metrics for LR DP Model:\\n\")\n",
    "    f.write(\"-----------------------------------------------\\n\")\n",
    "    f.write(f\"Compile Time      : {compile_time:.4f} seconds\\n\")\n",
    "    f.write(f\"Prediction Time    : {prediction_time_fhe:.4f} seconds\\n\")\n",
    "    f.write(f\"Memory Usage       : {memory_usage:.2f} MB\\n\")\n",
    "    f.write(f\"Accuracy           : {accuracy_fhe:.4f}\\n\")\n",
    "    f.write(f\"Precision          : {precision_fhe:.4f}\\n\")\n",
    "    f.write(f\"Recall             : {recall_fhe:.4f}\\n\")\n",
    "    f.write(f\"F1 Score           : {f1_fhe:.4f}\\n\")\n",
    "    f.write(\"\\nClassification Report:\\n\")\n",
    "    f.write(class_report_fhe + \"\\n\")\n",
    "    f.write(\"Confusion Matrix:\\n\")\n",
    "    f.write(str(conf_matrix_fhe) + \"\\n\")\n",
    "\n",
    "print(f\"FHE evaluation results saved to {output_file_fhe}\")"
   ]
  },
  {
   "cell_type": "code",
   "execution_count": 59,
   "metadata": {},
   "outputs": [],
   "source": [
    "encrypted_model_path = \"../data/encrypted/DP/\"\n",
    "os.makedirs(encrypted_model_path, exist_ok=True)\n",
    "\n",
    "from concrete.ml.deployment import FHEModelDev\n",
    "dev = FHEModelDev(path_dir=encrypted_model_path, model=cml_model)\n",
    "dev.save()"
   ]
  }
 ],
 "metadata": {
  "kernelspec": {
   "display_name": ".venv",
   "language": "python",
   "name": "python3"
  },
  "language_info": {
   "codemirror_mode": {
    "name": "ipython",
    "version": 3
   },
   "file_extension": ".py",
   "mimetype": "text/x-python",
   "name": "python",
   "nbconvert_exporter": "python",
   "pygments_lexer": "ipython3",
   "version": "3.12.3"
  }
 },
 "nbformat": 4,
 "nbformat_minor": 2
}
